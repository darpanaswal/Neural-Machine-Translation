{
  "cells": [
    {
      "cell_type": "markdown",
      "id": "f59fdece",
      "metadata": {},
      "source": [
        "# Importing Libraries"
      ]
    },
    {
      "cell_type": "code",
      "execution_count": 25,
      "metadata": {
        "_cell_guid": "b1076dfc-b9ad-4769-8c92-a6c4dae69d19",
        "_uuid": "8f2839f25d086af736a60e9eeb907d3b93b6e0e5",
        "execution": {
          "iopub.execute_input": "2022-07-04T07:15:35.606399Z",
          "iopub.status.busy": "2022-07-04T07:15:35.605831Z",
          "iopub.status.idle": "2022-07-04T07:15:37.756248Z",
          "shell.execute_reply": "2022-07-04T07:15:37.755369Z",
          "shell.execute_reply.started": "2022-07-04T07:15:35.606288Z"
        },
        "id": "QJq5eeTClMSy",
        "trusted": true
      },
      "outputs": [],
      "source": [
        "import re\n",
        "import nltk\n",
        "import spacy\n",
        "import string\n",
        "import warnings\n",
        "import numpy as np\n",
        "import pandas as pd\n",
        "from time import time\n",
        "from string import digits\n",
        "from collections import Counter\n",
        "from nltk.corpus import stopwords\n",
        "from nltk.stem.porter import PorterStemmer\n",
        "from sklearn.utils import shuffle\n",
        "from rouge_score import rouge_scorer\n",
        "from sklearn.model_selection import train_test_split\n",
        "from matplotlib import pyplot as plt\n",
        "from keras.models import Model\n",
        "from keras.callbacks import EarlyStopping\n",
        "from keras.preprocessing.text import Tokenizer\n",
        "from nltk.translate.bleu_score import sentence_bleu\n",
        "from keras_preprocessing.sequence import pad_sequences\n",
        "from keras.layers import Input, LSTM, Embedding, Dense, Concatenate, TimeDistributed"
      ]
    },
    {
      "cell_type": "markdown",
      "id": "183db302",
      "metadata": {},
      "source": [
        "##### Factorial function / Average of average min and max length of 90% of sequences"
      ]
    },
    {
      "cell_type": "code",
      "execution_count": 4,
      "metadata": {
        "id": "fTBGq04sMKVY"
      },
      "outputs": [],
      "source": [
        "def factorial(x):\n",
        "    if x == 1:\n",
        "        return 1\n",
        "    else:\n",
        "        return (x * factorial(x-1))\n",
        "\n",
        "def length(word_count):\n",
        "    a = np.array(word_count)\n",
        "    a.sort()\n",
        "    n = a.size - 1\n",
        "    x = int(0.9*a.size)\n",
        "    l = 0\n",
        "    max_len = 0\n",
        "    for i in range(n-x):\n",
        "        max_len += a[i]*(factorial(n-i)/(factorial(x)*factorial(n-i-x)))\n",
        "        l += (factorial(n-i)/(factorial(x)*factorial(n-i-x)))\n",
        "\n",
        "    for i in range(n-x):\n",
        "        max_len += a[n-i]*(factorial(n-i)/(factorial(x)*factorial(n-i-x)))\n",
        "    max_len /= 2*l\n",
        "    return max_len.astype(int)"
      ]
    },
    {
      "cell_type": "markdown",
      "id": "18339f1f",
      "metadata": {},
      "source": [
        "# Preprocessing"
      ]
    },
    {
      "cell_type": "markdown",
      "id": "a5901f94",
      "metadata": {},
      "source": [
        "### Stemming and string cleaning"
      ]
    },
    {
      "cell_type": "code",
      "execution_count": 5,
      "metadata": {
        "execution": {
          "iopub.execute_input": "2022-07-04T07:16:28.349466Z",
          "iopub.status.busy": "2022-07-04T07:16:28.349096Z",
          "iopub.status.idle": "2022-07-04T07:16:28.398424Z",
          "shell.execute_reply": "2022-07-04T07:16:28.397556Z",
          "shell.execute_reply.started": "2022-07-04T07:16:28.349398Z"
        },
        "id": "6iEXFHi4lMS3",
        "trusted": true
      },
      "outputs": [],
      "source": [
        "def clean_text1(column):\n",
        "    for row in column:\n",
        "    # Split CamelCase words\n",
        "        row = re.sub('([A-Z][a-z]+)', r' \\1', re.sub('([A-Z]+)', r' \\1', str(row))).split()\n",
        "    # Remove special characters and numbers \n",
        "        row = re.sub('[^a-zA-Z]', ' ', str(row))\n",
        "    # Remove Repeated words\n",
        "        row = re.sub(r\"\\\\b(\\\\w+)(?:\\\\W+\\\\1\\\\b)+\", \"\", str(row))\n",
        "    # Replace tabs and newlines with a single space\n",
        "        row = re.sub(\"(\\\\t)\", \" \", str(row))\n",
        "        row = re.sub(\"(\\\\r)\", \" \", str(row))\n",
        "        row = re.sub(\"(\\\\n)\", \" \", str(row))\n",
        "    # Remove single alphabets\n",
        "        row = re.sub(r'(?:^| )\\w(?:$| )', ' ', str(row)).strip()\n",
        "        row = row.lower()\n",
        "        yield row\n",
        "\n",
        "def clean_text2(column):\n",
        "    nltk.download('stopwords')\n",
        "    stop_words = stopwords.words('english')\n",
        "    stop_words.remove('not')\n",
        "    stop_words.remove('or')\n",
        "    #stop_words = infreq(column)\n",
        "    for row in column:\n",
        "        counts = Counter(row.split())\n",
        "        for freq, key in enumerate(counts):\n",
        "            if freq < 2:\n",
        "                if key not in stop_words:\n",
        "                    stop_words.append(key)\n",
        "        row = row.split()\n",
        "        row = [word for word in row if not word in set(stop_words)]\n",
        "        row = ' '.join(row)\n",
        "        yield row"
      ]
    },
    {
      "cell_type": "code",
      "execution_count": null,
      "metadata": {
        "id": "B8JjA3IZH6gj"
      },
      "outputs": [],
      "source": [
        "#def infreq(column):\n",
        "#    nltk.download('stopwords')\n",
        "#    stop_words = stopwords.words('english')\n",
        "#    stop_words.remove('not')\n",
        "#    stop_words.remove('or')\n",
        "#\n",
        "#    frequency = {}\n",
        "#\n",
        "#    for row in (column):\n",
        "#        frequency.update(Counter(row.split()))\n",
        "#    \n",
        "#    for key in frequency:\n",
        "#        if frequency[key] < 3:\n",
        "#            stop_words.append(key)\n",
        "#    return stop_words"
      ]
    },
    {
      "cell_type": "markdown",
      "id": "8a00067a",
      "metadata": {},
      "source": [
        "##### Loading the dataset and making batches"
      ]
    },
    {
      "cell_type": "code",
      "execution_count": 6,
      "metadata": {
        "id": "JElwQYlhv3ih"
      },
      "outputs": [],
      "source": [
        "df = pd.read_csv(\"python_dataset.csv\")\n",
        "lines = df.iloc[:, 1:3]\n",
        "lines = lines.dropna()\n",
        "lines = lines.sample(n = 250, random_state = 1234)"
      ]
    },
    {
      "cell_type": "code",
      "execution_count": 7,
      "metadata": {
        "colab": {
          "base_uri": "https://localhost:8080/"
        },
        "id": "i3g2dMeV08JI",
        "outputId": "592fc719-e11c-4095-c78f-5d2c01db2a92"
      },
      "outputs": [
        {
          "name": "stderr",
          "output_type": "stream",
          "text": [
            "[nltk_data] Downloading package stopwords to\n",
            "[nltk_data]     C:\\Users\\darpa\\AppData\\Roaming\\nltk_data...\n",
            "[nltk_data]   Package stopwords is already up-to-date!\n",
            "[nltk_data] Downloading package stopwords to\n",
            "[nltk_data]     C:\\Users\\darpa\\AppData\\Roaming\\nltk_data...\n",
            "[nltk_data]   Package stopwords is already up-to-date!\n"
          ]
        }
      ],
      "source": [
        "code = clean_text1(lines['code'])\n",
        "summary = clean_text1(lines['docstring'])\n",
        "code = clean_text2(code)\n",
        "summary = clean_text2(summary)\n",
        "\n",
        "nlp = spacy.load(\"en_core_web_sm\", disable=['ner', 'parser'])\n",
        "code = [str(doc) for doc in nlp.pipe(code, batch_size = 128)]\n",
        "summary = [str(doc) for doc in nlp.pipe(summary, batch_size = 128)]"
      ]
    },
    {
      "cell_type": "code",
      "execution_count": 8,
      "metadata": {
        "colab": {
          "base_uri": "https://localhost:8080/"
        },
        "id": "gAMTb9p9wnot",
        "outputId": "3885e1c6-e138-4bd8-dda4-5cba1fb15641"
      },
      "outputs": [
        {
          "data": {
            "text/plain": [
              "(250, 4)"
            ]
          },
          "execution_count": 8,
          "metadata": {},
          "output_type": "execute_result"
        }
      ],
      "source": [
        "lines['code'] = code\n",
        "lines['docstring'] = summary\n",
        "lines['docstring'] = lines['docstring'].apply(lambda x : 'START_ '+ x + ' _END')\n",
        "lines['length_code_sentence'] = lines['code'].apply(lambda x:len(x.split(\" \")))\n",
        "lines['length_summary_sentence'] = lines['docstring'].apply(lambda x:len(x.split(\" \")))\n",
        "\n",
        "lines.shape"
      ]
    },
    {
      "cell_type": "code",
      "execution_count": 9,
      "metadata": {
        "colab": {
          "base_uri": "https://localhost:8080/",
          "height": 206
        },
        "execution": {
          "iopub.execute_input": "2022-07-04T07:16:59.845625Z",
          "iopub.status.busy": "2022-07-04T07:16:59.845145Z",
          "iopub.status.idle": "2022-07-04T07:16:59.859281Z",
          "shell.execute_reply": "2022-07-04T07:16:59.858267Z",
          "shell.execute_reply.started": "2022-07-04T07:16:59.845578Z"
        },
        "id": "pIsFBQn9lMTI",
        "outputId": "c2b950a0-c7a8-4c63-c5a8-4aeff54c01b7",
        "trusted": true
      },
      "outputs": [
        {
          "data": {
            "text/html": [
              "<div>\n",
              "<style scoped>\n",
              "    .dataframe tbody tr th:only-of-type {\n",
              "        vertical-align: middle;\n",
              "    }\n",
              "\n",
              "    .dataframe tbody tr th {\n",
              "        vertical-align: top;\n",
              "    }\n",
              "\n",
              "    .dataframe thead th {\n",
              "        text-align: right;\n",
              "    }\n",
              "</style>\n",
              "<table border=\"1\" class=\"dataframe\">\n",
              "  <thead>\n",
              "    <tr style=\"text-align: right;\">\n",
              "      <th></th>\n",
              "      <th>code</th>\n",
              "      <th>docstring</th>\n",
              "      <th>length_code_sentence</th>\n",
              "      <th>length_summary_sentence</th>\n",
              "    </tr>\n",
              "  </thead>\n",
              "  <tbody>\n",
              "    <tr>\n",
              "      <th>167036</th>\n",
              "      <td></td>\n",
              "      <td>START_ python recalculates hashes _END</td>\n",
              "      <td>1</td>\n",
              "      <td>5</td>\n",
              "    </tr>\n",
              "    <tr>\n",
              "      <th>147240</th>\n",
              "      <td>flush time sleep write</td>\n",
              "      <td>START_ create spinning command line cursor usi...</td>\n",
              "      <td>4</td>\n",
              "      <td>9</td>\n",
              "    </tr>\n",
              "    <tr>\n",
              "      <th>593732</th>\n",
              "      <td></td>\n",
              "      <td>START_ structure multi language application _END</td>\n",
              "      <td>1</td>\n",
              "      <td>6</td>\n",
              "    </tr>\n",
              "    <tr>\n",
              "      <th>97987</th>\n",
              "      <td></td>\n",
              "      <td>START_ copy python class _END</td>\n",
              "      <td>1</td>\n",
              "      <td>5</td>\n",
              "    </tr>\n",
              "    <tr>\n",
              "      <th>493693</th>\n",
              "      <td>np np array</td>\n",
              "      <td>START_ zeros numpy array _END</td>\n",
              "      <td>3</td>\n",
              "      <td>5</td>\n",
              "    </tr>\n",
              "  </tbody>\n",
              "</table>\n",
              "</div>"
            ],
            "text/plain": [
              "                          code  ... length_summary_sentence\n",
              "167036                          ...                       5\n",
              "147240  flush time sleep write  ...                       9\n",
              "593732                          ...                       6\n",
              "97987                           ...                       5\n",
              "493693             np np array  ...                       5\n",
              "\n",
              "[5 rows x 4 columns]"
            ]
          },
          "execution_count": 9,
          "metadata": {},
          "output_type": "execute_result"
        }
      ],
      "source": [
        "lines.head()"
      ]
    },
    {
      "cell_type": "markdown",
      "id": "8aba6ef0",
      "metadata": {},
      "source": [
        "##### Calculating max code/summary lengths"
      ]
    },
    {
      "cell_type": "code",
      "execution_count": 10,
      "metadata": {
        "colab": {
          "base_uri": "https://localhost:8080/"
        },
        "id": "aYVZCHwjYcND",
        "outputId": "aab18ac8-12e4-46e1-d3c5-a707a7ddea2b"
      },
      "outputs": [
        {
          "data": {
            "text/plain": [
              "(59, 13)"
            ]
          },
          "execution_count": 10,
          "metadata": {},
          "output_type": "execute_result"
        }
      ],
      "source": [
        "max_code_len = max(lines['length_code_sentence'])\n",
        "max_summary_len = max(lines['length_summary_sentence'])\n",
        "max_code_len, max_summary_len"
      ]
    },
    {
      "cell_type": "markdown",
      "id": "8aba6ef0",
      "metadata": {},
      "source": [
        "##### Calculating average max code/summary lengths"
      ]
    },
    {
      "cell_type": "code",
      "execution_count": 11,
      "metadata": {
        "colab": {
          "base_uri": "https://localhost:8080/"
        },
        "id": "W7nGg_U_YeAx",
        "outputId": "2ca57c82-acf4-4f94-9846-96b00ffd2277"
      },
      "outputs": [
        {
          "data": {
            "text/plain": [
              "(29, 7)"
            ]
          },
          "execution_count": 11,
          "metadata": {},
          "output_type": "execute_result"
        }
      ],
      "source": [
        "max_avg_code_len = length(lines['length_code_sentence'])\n",
        "max_avg_summary_len = length(lines['length_summary_sentence'])\n",
        "max_avg_code_len, max_avg_summary_len"
      ]
    },
    {
      "cell_type": "markdown",
      "metadata": {},
      "source": [
        "##### Creating Vocabularies for Code and Summary"
      ]
    },
    {
      "cell_type": "code",
      "execution_count": 12,
      "metadata": {
        "id": "zbcG9VJFlMTI"
      },
      "outputs": [],
      "source": [
        "all_code_words = set()\n",
        "for code in lines['code']:\n",
        "    for word in code.split():\n",
        "        if word not in all_code_words:\n",
        "            all_code_words.add(word)\n",
        "\n",
        "all_summary_words = set()\n",
        "for summary in lines['docstring']:\n",
        "    for word in summary.split():\n",
        "        if word not in all_summary_words:\n",
        "            all_summary_words.add(word)"
      ]
    },
    {
      "cell_type": "code",
      "execution_count": 13,
      "metadata": {
        "colab": {
          "base_uri": "https://localhost:8080/"
        },
        "id": "ZzSkPgndlMTJ",
        "outputId": "50c146da-d984-46f1-bd7f-803831d7541f"
      },
      "outputs": [
        {
          "data": {
            "text/plain": [
              "(625, 604)"
            ]
          },
          "execution_count": 13,
          "metadata": {},
          "output_type": "execute_result"
        }
      ],
      "source": [
        "input_words = sorted(list(all_code_words))\n",
        "target_words = sorted(list(all_summary_words))\n",
        "X_voc = len(all_code_words) + 1\n",
        "y_voc = len(all_summary_words) + 1\n",
        "X_voc, y_voc"
      ]
    },
    {
      "cell_type": "code",
      "execution_count": 14,
      "metadata": {
        "id": "INOcscpolMTK"
      },
      "outputs": [],
      "source": [
        "input_token_index = dict([(word, i+1) for i, word in enumerate(input_words)])\n",
        "target_token_index = dict([(word, i+1) for i, word in enumerate(target_words)])\n",
        "reverse_input_char_index = dict((i, word) for word, i in input_token_index.items())\n",
        "reverse_target_char_index = dict((i, word) for word, i in target_token_index.items())"
      ]
    },
    {
      "cell_type": "code",
      "execution_count": 15,
      "metadata": {
        "execution": {
          "iopub.execute_input": "2022-07-04T07:17:52.494630Z",
          "iopub.status.busy": "2022-07-04T07:17:52.493871Z",
          "iopub.status.idle": "2022-07-04T07:17:52.504623Z",
          "shell.execute_reply": "2022-07-04T07:17:52.503636Z",
          "shell.execute_reply.started": "2022-07-04T07:17:52.494565Z"
        },
        "id": "zwEL6UjDlMTL",
        "trusted": true
      },
      "outputs": [],
      "source": [
        "X, y = lines['code'], lines['docstring']\n",
        "X_train, X_test, y_train, y_test = train_test_split(X, y, test_size = 0.15, random_state = 42, shuffle = True)"
      ]
    },
    {
      "cell_type": "markdown",
      "metadata": {},
      "source": [
        "##### Generate input and output batches for model training "
      ]
    },
    {
      "cell_type": "code",
      "execution_count": 16,
      "metadata": {
        "id": "KRaq3Cv75q3J"
      },
      "outputs": [],
      "source": [
        "def generate_batch(X, y, batch_size):\n",
        "    ''' Generate a batch of data '''\n",
        "    while True:\n",
        "        for j in range(0, len(X), batch_size):\n",
        "            encoder_input_data = np.zeros((batch_size, max_code_len), dtype='float32')\n",
        "            decoder_input_data = np.zeros((batch_size, max_summary_len), dtype='float32')\n",
        "            decoder_target_data = np.zeros((batch_size, max_summary_len, y_voc), dtype='float32')\n",
        "            for i, (input_text, target_text) in enumerate(zip(X[j:j+batch_size], y[j:j+batch_size])):\n",
        "                for t, word in enumerate(input_text.split()):\n",
        "                    encoder_input_data[i, t] = input_token_index[word] # encoder input seq\n",
        "                for t, word in enumerate(target_text.split()):\n",
        "                    if t<len(target_text.split())-1:\n",
        "                        decoder_input_data[i, t] = target_token_index[word] # decoder input seq\n",
        "                    if t>0:\n",
        "                        # 1. Decoder target sequence (one hot encoded), 2. Does not include the START_ token, 3. Offset by one timestep\n",
        "                        decoder_target_data[i, t - 1, target_token_index[word]] = 1.\n",
        "            yield([encoder_input_data, decoder_input_data], decoder_target_data)"
      ]
    },
    {
      "cell_type": "code",
      "execution_count": 49,
      "metadata": {
        "id": "t9jKzZUcrGLh"
      },
      "outputs": [],
      "source": [
        "#encoder_input_data = np.zeros((len(X), max_code_len), dtype='float32')\n",
        "#decoder_input_data = np.zeros((len(X), max_summary_len), dtype='float32')\n",
        "#decoder_target_data = np.zeros((len(X), max_summary_len, y_voc))\n",
        "\n",
        "#for i, (input_text, output_text) in enumerate(zip(X, y)):\n",
        "#    for t, word in enumerate(input_text.split()):\n",
        "#      encoder_input_data[i,t] = input_token_index[word]\n",
        "#    for t,word in enumerate(output_text.split()):\n",
        "#      decoder_input_data[i,t] = target_token_index[word]\n",
        "#      # as decoder target data is ahead of decoder input data, it will not include start_ character(which will be given to decoder model at prediction)\n",
        "#      if t > 0:\n",
        "#        decoder_target_data[i, t-1, target_token_index[word]] = 1"
      ]
    },
    {
      "cell_type": "markdown",
      "id": "a2eef56c",
      "metadata": {},
      "source": [
        "# Building the Model"
      ]
    },
    {
      "cell_type": "code",
      "execution_count": 17,
      "metadata": {
        "colab": {
          "base_uri": "https://localhost:8080/"
        },
        "execution": {
          "iopub.execute_input": "2022-07-04T07:17:58.376845Z",
          "iopub.status.busy": "2022-07-04T07:17:58.376263Z",
          "iopub.status.idle": "2022-07-04T07:17:58.886760Z",
          "shell.execute_reply": "2022-07-04T07:17:58.885983Z",
          "shell.execute_reply.started": "2022-07-04T07:17:58.376787Z"
        },
        "id": "XcX8NBc2lMTN",
        "outputId": "9d413581-1053-45bd-d56d-d6413fdff3a3",
        "trusted": true
      },
      "outputs": [
        {
          "name": "stdout",
          "output_type": "stream",
          "text": [
            "Model: \"model\"\n",
            "__________________________________________________________________________________________________\n",
            " Layer (type)                   Output Shape         Param #     Connected to                     \n",
            "==================================================================================================\n",
            " input_1 (InputLayer)           [(None, None)]       0           []                               \n",
            "                                                                                                  \n",
            " input_2 (InputLayer)           [(None, None)]       0           []                               \n",
            "                                                                                                  \n",
            " embedding (Embedding)          (None, None, 200)    125000      ['input_1[0][0]']                \n",
            "                                                                                                  \n",
            " embedding_1 (Embedding)        (None, None, 200)    120800      ['input_2[0][0]']                \n",
            "                                                                                                  \n",
            " lstm (LSTM)                    [(None, 300),        601200      ['embedding[0][0]']              \n",
            "                                 (None, 300),                                                     \n",
            "                                 (None, 300)]                                                     \n",
            "                                                                                                  \n",
            " lstm_1 (LSTM)                  [(None, None, 300),  601200      ['embedding_1[0][0]',            \n",
            "                                 (None, 300),                     'lstm[0][1]',                   \n",
            "                                 (None, 300)]                     'lstm[0][2]']                   \n",
            "                                                                                                  \n",
            " dense (Dense)                  (None, None, 604)    181804      ['lstm_1[0][0]']                 \n",
            "                                                                                                  \n",
            "==================================================================================================\n",
            "Total params: 1,630,004\n",
            "Trainable params: 1,630,004\n",
            "Non-trainable params: 0\n",
            "__________________________________________________________________________________________________\n"
          ]
        }
      ],
      "source": [
        "latent_dim = 300\n",
        "embedding_dim = 200\n",
        "\n",
        "#encoder\n",
        "encoder_inputs = Input(shape = (None, ))\n",
        "en_emb = Embedding(X_voc, embedding_dim, mask_zero = True)(encoder_inputs)\n",
        "encoder_lstm = LSTM(latent_dim, return_state = True, dropout = 0.4)(en_emb)#, recurrent_dropout = 0.2)(en_emb)\n",
        "#encoder_lstm = LSTM(latent_dim, return_sequences = True, return_state = True, dropout = 0.4, recurrent_dropout = 0.2)(encoder_lstm)\n",
        "#encoder_lstm = LSTM(latent_dim, return_sequences = True, return_state = True, dropout = 0.4, recurrent_dropout = 0.2)(encoder_lstm)\n",
        "(encoder_outputs, state_h, state_c) = encoder_lstm\n",
        "encoder_states = [state_h, state_c]\n",
        "\n",
        "#decoder\n",
        "decoder_inputs = Input(shape = (None, ))\n",
        "de_emb_layer = Embedding(y_voc, embedding_dim, mask_zero = True, trainable = True)\n",
        "de_emb = de_emb_layer(decoder_inputs)\n",
        "decoder_lstm = LSTM(latent_dim, return_sequences = True, return_state = True, dropout = 0.4)#, recurrent_dropout = 0.2)\n",
        "\n",
        "decoder_outputs, _, _ = decoder_lstm(de_emb, initial_state = [state_h, state_c])\n",
        "\n",
        "decoder_dense = Dense(y_voc, activation = 'softmax')\n",
        "decoder_output = decoder_dense(decoder_outputs)\n",
        "\n",
        "model = Model([encoder_inputs, decoder_inputs], decoder_output)\n",
        "model.summary()"
      ]
    },
    {
      "cell_type": "code",
      "execution_count": 18,
      "metadata": {
        "id": "AovXFY9bxRle"
      },
      "outputs": [],
      "source": [
        "model.compile(optimizer=\"rmsprop\", loss=\"categorical_crossentropy\", metrics=[\"accuracy\"])"
      ]
    },
    {
      "cell_type": "code",
      "execution_count": 19,
      "metadata": {
        "colab": {
          "base_uri": "https://localhost:8080/"
        },
        "id": "YhMri0Vl5gZP",
        "outputId": "d70c858c-6551-45f2-84bf-978609abcfb1"
      },
      "outputs": [
        {
          "data": {
            "text/plain": [
              "38"
            ]
          },
          "execution_count": 19,
          "metadata": {},
          "output_type": "execute_result"
        }
      ],
      "source": [
        "train_samples = len(X_train)\n",
        "val_samples = len(X_test)\n",
        "batch_size = 25\n",
        "epochs = 100\n",
        "val_samples"
      ]
    },
    {
      "cell_type": "code",
      "execution_count": 20,
      "metadata": {
        "colab": {
          "base_uri": "https://localhost:8080/"
        },
        "execution": {
          "iopub.execute_input": "2022-07-04T07:18:57.099251Z",
          "iopub.status.busy": "2022-07-04T07:18:57.098872Z"
        },
        "id": "ot292mIAlMTR",
        "outputId": "2ecde31a-1940-4dad-c468-0da14429956e",
        "trusted": true
      },
      "outputs": [
        {
          "name": "stdout",
          "output_type": "stream",
          "text": [
            "Epoch 1/100\n"
          ]
        },
        {
          "name": "stderr",
          "output_type": "stream",
          "text": [
            "C:\\Users\\darpa\\AppData\\Local\\Temp\\ipykernel_5260\\1326067021.py:1: UserWarning: `Model.fit_generator` is deprecated and will be removed in a future version. Please use `Model.fit`, which supports generators.\n",
            "  history = model.fit_generator(generator = generate_batch(X, y, batch_size = batch_size),\n"
          ]
        },
        {
          "name": "stdout",
          "output_type": "stream",
          "text": [
            "8/8 [==============================] - 14s 514ms/step - loss: 2.3055 - accuracy: 0.1838 - val_loss: 1.7504 - val_accuracy: 0.2500\n",
            "Epoch 2/100\n",
            "8/8 [==============================] - 1s 181ms/step - loss: 2.0551 - accuracy: 0.2103 - val_loss: 1.6369 - val_accuracy: 0.2500\n",
            "Epoch 3/100\n",
            "8/8 [==============================] - 1s 184ms/step - loss: 1.9712 - accuracy: 0.2130 - val_loss: 1.6080 - val_accuracy: 0.2500\n",
            "Epoch 4/100\n",
            "8/8 [==============================] - 1s 184ms/step - loss: 1.8950 - accuracy: 0.2167 - val_loss: 1.5854 - val_accuracy: 0.2500\n",
            "Epoch 5/100\n",
            "8/8 [==============================] - 1s 186ms/step - loss: 1.8343 - accuracy: 0.2226 - val_loss: 1.5481 - val_accuracy: 0.2500\n",
            "Epoch 6/100\n",
            "8/8 [==============================] - 2s 195ms/step - loss: 1.9139 - accuracy: 0.2080 - val_loss: 1.5150 - val_accuracy: 0.2500\n",
            "Epoch 7/100\n",
            "8/8 [==============================] - 1s 186ms/step - loss: 1.8983 - accuracy: 0.2103 - val_loss: 1.4906 - val_accuracy: 0.2600\n",
            "Epoch 8/100\n",
            "8/8 [==============================] - 1s 188ms/step - loss: 1.8672 - accuracy: 0.2151 - val_loss: 1.4602 - val_accuracy: 0.2600\n",
            "Epoch 9/100\n",
            "8/8 [==============================] - 1s 188ms/step - loss: 1.7894 - accuracy: 0.2156 - val_loss: 1.4675 - val_accuracy: 0.2700\n",
            "Epoch 10/100\n",
            "8/8 [==============================] - 2s 191ms/step - loss: 1.7315 - accuracy: 0.2237 - val_loss: 1.3995 - val_accuracy: 0.2600\n",
            "Epoch 11/100\n",
            "8/8 [==============================] - 2s 195ms/step - loss: 1.8015 - accuracy: 0.2111 - val_loss: 1.3770 - val_accuracy: 0.2700\n",
            "Epoch 12/100\n",
            "8/8 [==============================] - 1s 189ms/step - loss: 1.7834 - accuracy: 0.2114 - val_loss: 1.3460 - val_accuracy: 0.2700\n",
            "Epoch 13/100\n",
            "8/8 [==============================] - 1s 189ms/step - loss: 1.7567 - accuracy: 0.2151 - val_loss: 1.3072 - val_accuracy: 0.2800\n",
            "Epoch 14/100\n",
            "8/8 [==============================] - 1s 187ms/step - loss: 1.6766 - accuracy: 0.2167 - val_loss: 1.3658 - val_accuracy: 0.2900\n",
            "Epoch 15/100\n",
            "8/8 [==============================] - 2s 190ms/step - loss: 1.6243 - accuracy: 0.2226 - val_loss: 1.2629 - val_accuracy: 0.2800\n",
            "Epoch 16/100\n",
            "8/8 [==============================] - 2s 190ms/step - loss: 1.6797 - accuracy: 0.2132 - val_loss: 1.2328 - val_accuracy: 0.2600\n",
            "Epoch 17/100\n",
            "8/8 [==============================] - 1s 189ms/step - loss: 1.6526 - accuracy: 0.2145 - val_loss: 1.1927 - val_accuracy: 0.3000\n",
            "Epoch 18/100\n",
            "8/8 [==============================] - 2s 194ms/step - loss: 1.6322 - accuracy: 0.2183 - val_loss: 1.1815 - val_accuracy: 0.3100\n",
            "Epoch 19/100\n",
            "8/8 [==============================] - 2s 189ms/step - loss: 1.5564 - accuracy: 0.2210 - val_loss: 1.1467 - val_accuracy: 0.3000\n",
            "Epoch 20/100\n",
            "8/8 [==============================] - 1s 187ms/step - loss: 1.4969 - accuracy: 0.2270 - val_loss: 1.1137 - val_accuracy: 0.3100\n",
            "Epoch 21/100\n",
            "8/8 [==============================] - 1s 189ms/step - loss: 1.5548 - accuracy: 0.2164 - val_loss: 1.0946 - val_accuracy: 0.3000\n",
            "Epoch 22/100\n",
            "8/8 [==============================] - 1s 188ms/step - loss: 1.5312 - accuracy: 0.2166 - val_loss: 1.0880 - val_accuracy: 0.3100\n",
            "Epoch 23/100\n",
            "8/8 [==============================] - 1s 188ms/step - loss: 1.4866 - accuracy: 0.2279 - val_loss: 1.0504 - val_accuracy: 0.3200\n",
            "Epoch 24/100\n",
            "8/8 [==============================] - 1s 184ms/step - loss: 1.4395 - accuracy: 0.2308 - val_loss: 1.0379 - val_accuracy: 0.3200\n",
            "Epoch 25/100\n",
            "8/8 [==============================] - 1s 188ms/step - loss: 1.3735 - accuracy: 0.2337 - val_loss: 1.0375 - val_accuracy: 0.3600\n",
            "Epoch 26/100\n",
            "8/8 [==============================] - 2s 190ms/step - loss: 1.4259 - accuracy: 0.2248 - val_loss: 1.0079 - val_accuracy: 0.2800\n",
            "Epoch 27/100\n",
            "8/8 [==============================] - 2s 193ms/step - loss: 1.4068 - accuracy: 0.2334 - val_loss: 1.0216 - val_accuracy: 0.2900\n",
            "Epoch 28/100\n",
            "8/8 [==============================] - 1s 174ms/step - loss: 1.3786 - accuracy: 0.2343 - val_loss: 0.9614 - val_accuracy: 0.3900\n",
            "Epoch 29/100\n",
            "8/8 [==============================] - 1s 174ms/step - loss: 1.3236 - accuracy: 0.2405 - val_loss: 0.9211 - val_accuracy: 0.3600\n",
            "Epoch 30/100\n",
            "8/8 [==============================] - 2s 192ms/step - loss: 1.2567 - accuracy: 0.2470 - val_loss: 0.9125 - val_accuracy: 0.4000\n",
            "Epoch 31/100\n",
            "8/8 [==============================] - 1s 189ms/step - loss: 1.3204 - accuracy: 0.2363 - val_loss: 0.9253 - val_accuracy: 0.3400\n",
            "Epoch 32/100\n",
            "8/8 [==============================] - 1s 178ms/step - loss: 1.2791 - accuracy: 0.2597 - val_loss: 0.8871 - val_accuracy: 0.3500\n",
            "Epoch 33/100\n",
            "8/8 [==============================] - 2s 190ms/step - loss: 1.2394 - accuracy: 0.2556 - val_loss: 0.8434 - val_accuracy: 0.4600\n",
            "Epoch 34/100\n",
            "8/8 [==============================] - 1s 184ms/step - loss: 1.1981 - accuracy: 0.2698 - val_loss: 0.8086 - val_accuracy: 0.4100\n",
            "Epoch 35/100\n",
            "8/8 [==============================] - 2s 194ms/step - loss: 1.1365 - accuracy: 0.2824 - val_loss: 0.8142 - val_accuracy: 0.4500\n",
            "Epoch 36/100\n",
            "8/8 [==============================] - 2s 189ms/step - loss: 1.1965 - accuracy: 0.2679 - val_loss: 0.7860 - val_accuracy: 0.4400\n",
            "Epoch 37/100\n",
            "8/8 [==============================] - 2s 190ms/step - loss: 1.1415 - accuracy: 0.3049 - val_loss: 0.8041 - val_accuracy: 0.4300\n",
            "Epoch 38/100\n",
            "8/8 [==============================] - 2s 189ms/step - loss: 1.1137 - accuracy: 0.3120 - val_loss: 0.7499 - val_accuracy: 0.5400\n",
            "Epoch 39/100\n",
            "8/8 [==============================] - 1s 189ms/step - loss: 1.0942 - accuracy: 0.3174 - val_loss: 0.7151 - val_accuracy: 0.5300\n",
            "Epoch 40/100\n",
            "8/8 [==============================] - 2s 194ms/step - loss: 1.0263 - accuracy: 0.3389 - val_loss: 0.7147 - val_accuracy: 0.5900\n",
            "Epoch 41/100\n",
            "8/8 [==============================] - 2s 190ms/step - loss: 1.0538 - accuracy: 0.3403 - val_loss: 0.6822 - val_accuracy: 0.5900\n",
            "Epoch 42/100\n",
            "8/8 [==============================] - 1s 186ms/step - loss: 1.0200 - accuracy: 0.3659 - val_loss: 0.6817 - val_accuracy: 0.6100\n",
            "Epoch 43/100\n",
            "8/8 [==============================] - 1s 190ms/step - loss: 1.0052 - accuracy: 0.3738 - val_loss: 0.7252 - val_accuracy: 0.5700\n",
            "Epoch 44/100\n",
            "8/8 [==============================] - 2s 190ms/step - loss: 0.9748 - accuracy: 0.3738 - val_loss: 0.6345 - val_accuracy: 0.6800\n",
            "Epoch 45/100\n",
            "8/8 [==============================] - 1s 187ms/step - loss: 0.9195 - accuracy: 0.4131 - val_loss: 0.6302 - val_accuracy: 0.6600\n",
            "Epoch 46/100\n",
            "8/8 [==============================] - 2s 194ms/step - loss: 0.9521 - accuracy: 0.3960 - val_loss: 0.6190 - val_accuracy: 0.6400\n",
            "Epoch 47/100\n",
            "8/8 [==============================] - 2s 189ms/step - loss: 0.9095 - accuracy: 0.4406 - val_loss: 0.6214 - val_accuracy: 0.6800\n",
            "Epoch 48/100\n",
            "8/8 [==============================] - 2s 202ms/step - loss: 0.8915 - accuracy: 0.4771 - val_loss: 0.5625 - val_accuracy: 0.7100\n",
            "Epoch 49/100\n",
            "8/8 [==============================] - 1s 182ms/step - loss: 0.8614 - accuracy: 0.4680 - val_loss: 0.5448 - val_accuracy: 0.7300\n",
            "Epoch 50/100\n",
            "8/8 [==============================] - 2s 205ms/step - loss: 0.8195 - accuracy: 0.4806 - val_loss: 0.5584 - val_accuracy: 0.7600\n",
            "Epoch 51/100\n",
            "8/8 [==============================] - 2s 190ms/step - loss: 0.8534 - accuracy: 0.4895 - val_loss: 0.5637 - val_accuracy: 0.7200\n",
            "Epoch 52/100\n",
            "8/8 [==============================] - 2s 194ms/step - loss: 0.8099 - accuracy: 0.5321 - val_loss: 0.5210 - val_accuracy: 0.7200\n",
            "Epoch 53/100\n",
            "8/8 [==============================] - 2s 194ms/step - loss: 0.7844 - accuracy: 0.5783 - val_loss: 0.4945 - val_accuracy: 0.7200\n",
            "Epoch 54/100\n",
            "8/8 [==============================] - 2s 194ms/step - loss: 0.7692 - accuracy: 0.5547 - val_loss: 0.4760 - val_accuracy: 0.7900\n",
            "Epoch 55/100\n",
            "8/8 [==============================] - 2s 192ms/step - loss: 0.7334 - accuracy: 0.5637 - val_loss: 0.5658 - val_accuracy: 0.7300\n",
            "Epoch 56/100\n",
            "8/8 [==============================] - 2s 195ms/step - loss: 0.7550 - accuracy: 0.5914 - val_loss: 0.4559 - val_accuracy: 0.7500\n",
            "Epoch 57/100\n",
            "8/8 [==============================] - 2s 194ms/step - loss: 0.7026 - accuracy: 0.6236 - val_loss: 0.4648 - val_accuracy: 0.7400\n",
            "Epoch 58/100\n",
            "8/8 [==============================] - 2s 194ms/step - loss: 0.6986 - accuracy: 0.6283 - val_loss: 0.4325 - val_accuracy: 0.7600\n",
            "Epoch 59/100\n",
            "8/8 [==============================] - 2s 195ms/step - loss: 0.6808 - accuracy: 0.6230 - val_loss: 0.4258 - val_accuracy: 0.7700\n",
            "Epoch 60/100\n",
            "8/8 [==============================] - 2s 190ms/step - loss: 0.6423 - accuracy: 0.6467 - val_loss: 0.4015 - val_accuracy: 0.8000\n",
            "Epoch 61/100\n",
            "8/8 [==============================] - 2s 191ms/step - loss: 0.6529 - accuracy: 0.6628 - val_loss: 0.4250 - val_accuracy: 0.7600\n",
            "Epoch 62/100\n",
            "8/8 [==============================] - 2s 195ms/step - loss: 0.6151 - accuracy: 0.6951 - val_loss: 0.3921 - val_accuracy: 0.8000\n",
            "Epoch 63/100\n",
            "8/8 [==============================] - 2s 195ms/step - loss: 0.6113 - accuracy: 0.6763 - val_loss: 0.4700 - val_accuracy: 0.7100\n",
            "Epoch 64/100\n",
            "8/8 [==============================] - 2s 193ms/step - loss: 0.5922 - accuracy: 0.6847 - val_loss: 0.3765 - val_accuracy: 0.8000\n",
            "Epoch 65/100\n",
            "8/8 [==============================] - 2s 195ms/step - loss: 0.5716 - accuracy: 0.6833 - val_loss: 0.3409 - val_accuracy: 0.8200\n",
            "Epoch 66/100\n",
            "8/8 [==============================] - 2s 194ms/step - loss: 0.5616 - accuracy: 0.7290 - val_loss: 0.3466 - val_accuracy: 0.7700\n",
            "Epoch 67/100\n",
            "8/8 [==============================] - 2s 193ms/step - loss: 0.5395 - accuracy: 0.7361 - val_loss: 0.3363 - val_accuracy: 0.8100\n",
            "Epoch 68/100\n",
            "8/8 [==============================] - 2s 198ms/step - loss: 0.5303 - accuracy: 0.7359 - val_loss: 0.3148 - val_accuracy: 0.8000\n",
            "Epoch 69/100\n",
            "8/8 [==============================] - 2s 197ms/step - loss: 0.5235 - accuracy: 0.7270 - val_loss: 0.3157 - val_accuracy: 0.8200\n",
            "Epoch 70/100\n",
            "8/8 [==============================] - 2s 201ms/step - loss: 0.4922 - accuracy: 0.7453 - val_loss: 0.3002 - val_accuracy: 0.8100\n",
            "Epoch 71/100\n",
            "8/8 [==============================] - 2s 193ms/step - loss: 0.4956 - accuracy: 0.7574 - val_loss: 0.3006 - val_accuracy: 0.8500\n",
            "Epoch 72/100\n",
            "8/8 [==============================] - 2s 196ms/step - loss: 0.4601 - accuracy: 0.7834 - val_loss: 0.2916 - val_accuracy: 0.8300\n",
            "Epoch 73/100\n",
            "8/8 [==============================] - 2s 201ms/step - loss: 0.4578 - accuracy: 0.7774 - val_loss: 0.2908 - val_accuracy: 0.7900\n",
            "Epoch 74/100\n",
            "8/8 [==============================] - 2s 198ms/step - loss: 0.4947 - accuracy: 0.7562 - val_loss: 0.2732 - val_accuracy: 0.8500\n",
            "Epoch 75/100\n",
            "8/8 [==============================] - 2s 196ms/step - loss: 0.4340 - accuracy: 0.7752 - val_loss: 0.2586 - val_accuracy: 0.8500\n",
            "Epoch 76/100\n",
            "8/8 [==============================] - 2s 196ms/step - loss: 0.4232 - accuracy: 0.7941 - val_loss: 0.2519 - val_accuracy: 0.8600\n",
            "Epoch 77/100\n",
            "8/8 [==============================] - 2s 196ms/step - loss: 0.4026 - accuracy: 0.8097 - val_loss: 0.2565 - val_accuracy: 0.8600\n",
            "Epoch 78/100\n",
            "8/8 [==============================] - 2s 196ms/step - loss: 0.4018 - accuracy: 0.8126 - val_loss: 0.2521 - val_accuracy: 0.8500\n",
            "Epoch 79/100\n",
            "8/8 [==============================] - 2s 195ms/step - loss: 0.4010 - accuracy: 0.8028 - val_loss: 0.2525 - val_accuracy: 0.8300\n",
            "Epoch 80/100\n",
            "8/8 [==============================] - 2s 199ms/step - loss: 0.3828 - accuracy: 0.8084 - val_loss: 0.2317 - val_accuracy: 0.8500\n",
            "Epoch 81/100\n",
            "8/8 [==============================] - 2s 198ms/step - loss: 0.3690 - accuracy: 0.8267 - val_loss: 0.2262 - val_accuracy: 0.8600\n",
            "Epoch 82/100\n",
            "8/8 [==============================] - 2s 196ms/step - loss: 0.3479 - accuracy: 0.8402 - val_loss: 0.2239 - val_accuracy: 0.8700\n",
            "Epoch 83/100\n",
            "8/8 [==============================] - 2s 199ms/step - loss: 0.3518 - accuracy: 0.8307 - val_loss: 0.2297 - val_accuracy: 0.8500\n",
            "Epoch 84/100\n",
            "8/8 [==============================] - 2s 197ms/step - loss: 0.3532 - accuracy: 0.8245 - val_loss: 0.2131 - val_accuracy: 0.8600\n",
            "Epoch 85/100\n",
            "8/8 [==============================] - 2s 196ms/step - loss: 0.3329 - accuracy: 0.8239 - val_loss: 0.2039 - val_accuracy: 0.8800\n",
            "Epoch 86/100\n",
            "8/8 [==============================] - 2s 196ms/step - loss: 0.3175 - accuracy: 0.8466 - val_loss: 0.2021 - val_accuracy: 0.8600\n",
            "Epoch 87/100\n",
            "8/8 [==============================] - 2s 197ms/step - loss: 0.3012 - accuracy: 0.8612 - val_loss: 0.2111 - val_accuracy: 0.8800\n",
            "Epoch 88/100\n",
            "8/8 [==============================] - 2s 201ms/step - loss: 0.3097 - accuracy: 0.8424 - val_loss: 0.2034 - val_accuracy: 0.8700\n",
            "Epoch 89/100\n",
            "8/8 [==============================] - 2s 205ms/step - loss: 0.3130 - accuracy: 0.8451 - val_loss: 0.1861 - val_accuracy: 0.8800\n",
            "Epoch 90/100\n",
            "8/8 [==============================] - 2s 211ms/step - loss: 0.2931 - accuracy: 0.8472 - val_loss: 0.1786 - val_accuracy: 0.8800\n",
            "Epoch 91/100\n",
            "8/8 [==============================] - 2s 201ms/step - loss: 0.2762 - accuracy: 0.8708 - val_loss: 0.1824 - val_accuracy: 0.8900\n",
            "Epoch 92/100\n",
            "8/8 [==============================] - 2s 207ms/step - loss: 0.2623 - accuracy: 0.8749 - val_loss: 0.1795 - val_accuracy: 0.8900\n",
            "Epoch 93/100\n",
            "8/8 [==============================] - 2s 204ms/step - loss: 0.2693 - accuracy: 0.8626 - val_loss: 0.1877 - val_accuracy: 0.8600\n",
            "Epoch 94/100\n",
            "8/8 [==============================] - 2s 200ms/step - loss: 0.2920 - accuracy: 0.8483 - val_loss: 0.1691 - val_accuracy: 0.8800\n",
            "Epoch 95/100\n",
            "8/8 [==============================] - 2s 210ms/step - loss: 0.2569 - accuracy: 0.8638 - val_loss: 0.1617 - val_accuracy: 0.9000\n",
            "Epoch 96/100\n",
            "8/8 [==============================] - 2s 230ms/step - loss: 0.2404 - accuracy: 0.8750 - val_loss: 0.1621 - val_accuracy: 0.9100\n",
            "Epoch 97/100\n",
            "8/8 [==============================] - 2s 241ms/step - loss: 0.2335 - accuracy: 0.8927 - val_loss: 0.1653 - val_accuracy: 0.9000\n",
            "Epoch 98/100\n",
            "8/8 [==============================] - 2s 207ms/step - loss: 0.2388 - accuracy: 0.8829 - val_loss: 0.1683 - val_accuracy: 0.8800\n",
            "Epoch 99/100\n",
            "8/8 [==============================] - 2s 210ms/step - loss: 0.2436 - accuracy: 0.8711 - val_loss: 0.1540 - val_accuracy: 0.9100\n",
            "Epoch 100/100\n",
            "8/8 [==============================] - 2s 198ms/step - loss: 0.2304 - accuracy: 0.8715 - val_loss: 0.1467 - val_accuracy: 0.9000\n"
          ]
        }
      ],
      "source": [
        "history = model.fit_generator(generator = generate_batch(X, y, batch_size = batch_size),\n",
        "                    steps_per_epoch = train_samples//batch_size,\n",
        "                    epochs=epochs,\n",
        "                    validation_data = generate_batch(X_test, y_test, batch_size = batch_size),\n",
        "                    validation_steps = val_samples//batch_size\n",
        "                    )"
      ]
    },
    {
      "cell_type": "markdown",
      "id": "a2eef56c",
      "metadata": {},
      "source": [
        "### Plots for Loss and Accuracy for Train and Test Batches"
      ]
    },
    {
      "cell_type": "code",
      "execution_count": 21,
      "metadata": {
        "colab": {
          "base_uri": "https://localhost:8080/",
          "height": 513
        },
        "id": "4Sz4Bux7EuhK",
        "outputId": "d60e54a2-c569-4dea-de24-7b012645f4f5"
      },
      "outputs": [
        {
          "data": {
            "image/png": "[encoded data removed]",
            "text/plain": [
              "<Figure size 432x288 with 1 Axes>"
            ]
          },
          "metadata": {
            "needs_background": "light"
          },
          "output_type": "display_data"
        },
        {
          "data": {
            "image/png": "[encoded data removed]",
            "text/plain": [
              "<Figure size 432x288 with 1 Axes>"
            ]
          },
          "metadata": {
            "needs_background": "light"
          },
          "output_type": "display_data"
        }
      ],
      "source": [
        "plt.plot(history.history['loss'], label='train') \n",
        "plt.plot(history.history['val_loss'], label='test') \n",
        "plt.legend() \n",
        "plt.show()\n",
        "\n",
        "plt.plot(history.history['accuracy'], label='train') \n",
        "plt.plot(history.history['val_accuracy'], label='test') \n",
        "plt.legend() \n",
        "plt.show()"
      ]
    },
    {
      "cell_type": "code",
      "execution_count": null,
      "metadata": {
        "id": "KuE80saglMTR",
        "trusted": true
      },
      "outputs": [],
      "source": [
        "model.save_weights('nmt_weights.h5')"
      ]
    },
    {
      "cell_type": "code",
      "execution_count": 22,
      "metadata": {
        "id": "ETMJ4iUQlMTR",
        "trusted": true
      },
      "outputs": [],
      "source": [
        "#encoder model\n",
        "encoder_model = Model(inputs = encoder_inputs, outputs = encoder_states)\n",
        "\n",
        "#decoder model\n",
        "decoder_state_input_h = Input(shape = (latent_dim, ))\n",
        "decoder_state_input_c = Input(shape = (latent_dim, ))\n",
        "decoder_states = [decoder_state_input_h, decoder_state_input_c]\n",
        "\n",
        "de_emb2= de_emb_layer(decoder_inputs)\n",
        "\n",
        "(decoder_outputs2, state_h2, state_c2) = decoder_lstm(de_emb2, initial_state = decoder_states)\n",
        "decoder_states2 = [state_h2, state_c2]\n",
        "decoder_outputs2 = decoder_dense(decoder_outputs2)\n",
        "\n",
        "# Final decoder model\n",
        "decoder_model = Model([decoder_inputs] + decoder_states, [decoder_outputs2] + decoder_states2)"
      ]
    },
    {
      "cell_type": "code",
      "execution_count": 23,
      "metadata": {
        "id": "LqzuM53zAcIi"
      },
      "outputs": [],
      "source": [
        "def decode_sequence(input_seq):\n",
        "    # Encode the input as state vectors.\n",
        "    states_value = encoder_model.predict(input_seq)\n",
        "    # Generate empty target sequence of length 1.\n",
        "    target_seq = np.zeros((1,1))\n",
        "    # Populate the first character of target sequence with the start character.\n",
        "    target_seq[0, 0] = target_token_index['START_']\n",
        "    stop_condition = False\n",
        "    decoded_sentence = ''\n",
        "    while not stop_condition:\n",
        "        (output_tokens, h, c) = decoder_model.predict([target_seq] + states_value)\n",
        "        sampled_token_index = np.argmax(output_tokens[0, -1, :])\n",
        "        sampled_char = reverse_target_char_index[sampled_token_index]\n",
        "        decoded_sentence += ' '+sampled_char\n",
        "\n",
        "        if (sampled_char == '_END' or len(decoded_sentence.split()) > max_summary_len):\n",
        "            stop_condition = True\n",
        "\n",
        "        # Update the target sequence (of length 1).\n",
        "        target_seq = np.zeros((1,1))\n",
        "        target_seq[0, 0] = sampled_token_index\n",
        "\n",
        "        # Update states\n",
        "        states_value = [h, c]\n",
        "    return decoded_sentence"
      ]
    },
    {
      "cell_type": "code",
      "execution_count": 29,
      "metadata": {
        "colab": {
          "base_uri": "https://localhost:8080/"
        },
        "id": "hlCk2S7_Gx1Y",
        "outputId": "438643f5-3b5f-4da3-e719-7086b9249175"
      },
      "outputs": [
        {
          "name": "stdout",
          "output_type": "stream",
          "text": [
            "1/1 [==============================] - 0s 40ms/step\n",
            "1/1 [==============================] - 0s 33ms/step\n",
            "1/1 [==============================] - 0s 32ms/step\n",
            "Code: \n",
            "Actual Summary:  python recalculates hashes \n",
            "Predicted Summary:  sub \n",
            "Bleu Score: 0\n",
            "\n",
            "\n",
            "\n",
            "1/1 [==============================] - 0s 40ms/step\n",
            "1/1 [==============================] - 0s 24ms/step\n",
            "1/1 [==============================] - 0s 40ms/step\n",
            "1/1 [==============================] - 0s 45ms/step\n",
            "1/1 [==============================] - 0s 32ms/step\n",
            "1/1 [==============================] - 0s 40ms/step\n",
            "1/1 [==============================] - 0s 32ms/step\n",
            "1/1 [==============================] - 0s 42ms/step\n",
            "1/1 [==============================] - 0s 32ms/step\n",
            "Code: flush time sleep write\n",
            "Actual Summary:  create spinning command line cursor using python \n",
            "Predicted Summary:  create spinning command line cursor using python \n",
            "Bleu Score: 1.0\n",
            "\n",
            "\n",
            "\n",
            "1/1 [==============================] - 0s 41ms/step\n",
            "1/1 [==============================] - 0s 40ms/step\n",
            "1/1 [==============================] - 0s 48ms/step\n",
            "Code: \n",
            "Actual Summary:  structure multi language application \n",
            "Predicted Summary:  sub \n",
            "Bleu Score: 0\n",
            "\n",
            "\n",
            "\n",
            "1/1 [==============================] - 0s 48ms/step\n",
            "1/1 [==============================] - 0s 48ms/step\n",
            "1/1 [==============================] - 0s 48ms/step\n",
            "Code: \n",
            "Actual Summary:  copy python class \n",
            "Predicted Summary:  sub \n",
            "Bleu Score: 0\n",
            "\n",
            "\n",
            "\n",
            "1/1 [==============================] - 0s 48ms/step\n",
            "1/1 [==============================] - 0s 51ms/step\n",
            "1/1 [==============================] - 0s 48ms/step\n",
            "1/1 [==============================] - 0s 40ms/step\n",
            "1/1 [==============================] - 0s 34ms/step\n",
            "Code: np np array\n",
            "Actual Summary:  zeros numpy array \n",
            "Predicted Summary:  zeros numpy array \n",
            "Bleu Score: 1.2213386697554703e-77\n",
            "\n",
            "\n",
            "\n",
            "1/1 [==============================] - 0s 40ms/step\n",
            "1/1 [==============================] - 0s 36ms/step\n",
            "1/1 [==============================] - 0s 41ms/step\n",
            "1/1 [==============================] - 0s 42ms/step\n",
            "1/1 [==============================] - 0s 40ms/step\n",
            "1/1 [==============================] - 0s 40ms/step\n",
            "Code: series cc dfr astype int values index dfr index\n",
            "Actual Summary:  two columns python pandas \n",
            "Predicted Summary:  two columns python pandas \n",
            "Bleu Score: 1.0\n",
            "\n",
            "\n",
            "\n",
            "1/1 [==============================] - 0s 40ms/step\n",
            "1/1 [==============================] - 0s 40ms/step\n",
            "1/1 [==============================] - 0s 44ms/step\n",
            "1/1 [==============================] - 0s 40ms/step\n",
            "1/1 [==============================] - 0s 41ms/step\n",
            "1/1 [==============================] - 0s 32ms/step\n",
            "1/1 [==============================] - 0s 40ms/step\n",
            "1/1 [==============================] - 0s 53ms/step\n",
            "Code: char enumerate chars res si seqlen seqlen arr char print res\n",
            "Actual Summary:  generate one hot encoding dna sequences \n",
            "Predicted Summary:  generate one hot encoding dna sequences \n",
            "Bleu Score: 1.0\n",
            "\n",
            "\n",
            "\n",
            "1/1 [==============================] - 0s 32ms/step\n",
            "1/1 [==============================] - 0s 32ms/step\n",
            "1/1 [==============================] - 0s 24ms/step\n",
            "1/1 [==============================] - 0s 32ms/step\n",
            "Code: lc time en us\n",
            "Actual Summary:  representation python \n",
            "Predicted Summary:  representation python \n",
            "Bleu Score: 1.491668146240062e-154\n",
            "\n",
            "\n",
            "\n",
            "1/1 [==============================] - 0s 32ms/step\n",
            "1/1 [==============================] - 0s 24ms/step\n",
            "1/1 [==============================] - 0s 24ms/step\n",
            "1/1 [==============================] - 0s 23ms/step\n",
            "1/1 [==============================] - 0s 24ms/step\n",
            "1/1 [==============================] - 0s 32ms/step\n",
            "1/1 [==============================] - 0s 40ms/step\n",
            "Code: upload webapp request handler def post self pass\n",
            "Actual Summary:  google cloud storage appengine app \n",
            "Predicted Summary:  google cloud storage appengine app \n",
            "Bleu Score: 1.0\n",
            "\n",
            "\n",
            "\n",
            "1/1 [==============================] - 0s 40ms/step\n",
            "1/1 [==============================] - 0s 42ms/step\n",
            "1/1 [==============================] - 0s 34ms/step\n",
            "1/1 [==============================] - 0s 32ms/step\n",
            "Code: compile xxxx xx xx len match pass\n",
            "Actual Summary:  string format \n",
            "Predicted Summary:  string format \n",
            "Bleu Score: 1.491668146240062e-154\n",
            "\n",
            "\n",
            "\n",
            "1/1 [==============================] - 0s 48ms/step\n",
            "1/1 [==============================] - 0s 25ms/step\n",
            "1/1 [==============================] - 0s 32ms/step\n",
            "1/1 [==============================] - 0s 40ms/step\n",
            "1/1 [==============================] - 0s 32ms/step\n",
            "1/1 [==============================] - 0s 33ms/step\n",
            "1/1 [==============================] - 0s 35ms/step\n",
            "1/1 [==============================] - 0s 40ms/step\n",
            "1/1 [==============================] - 0s 40ms/step\n",
            "1/1 [==============================] - 0s 32ms/step\n",
            "Code: many id id id id ordered false except pymongo errors bulk write error list find\n",
            "Actual Summary:  continue insertion duplicate key error using py mongo \n",
            "Predicted Summary:  continue insertion duplicate key error using py mongo \n",
            "Bleu Score: 1.0\n",
            "\n",
            "\n",
            "\n",
            "1/1 [==============================] - 0s 40ms/step\n",
            "1/1 [==============================] - 0s 24ms/step\n",
            "1/1 [==============================] - 0s 31ms/step\n",
            "Code: element element selector\n",
            "Actual Summary:  abstraction \n",
            "Predicted Summary:  abstraction \n",
            "Bleu Score: 1.821831989445342e-231\n",
            "\n",
            "\n",
            "\n",
            "1/1 [==============================] - 0s 40ms/step\n",
            "1/1 [==============================] - 0s 24ms/step\n",
            "1/1 [==============================] - 0s 25ms/step\n",
            "1/1 [==============================] - 0s 32ms/step\n",
            "1/1 [==============================] - 0s 24ms/step\n",
            "1/1 [==============================] - 0s 24ms/step\n",
            "1/1 [==============================] - 0s 32ms/step\n",
            "Code: help\n",
            "Actual Summary:  repeating elements interpeted repeating elements \n",
            "Predicted Summary:  repeating elements interpeted repeating elements \n",
            "Bleu Score: 1.0\n",
            "\n",
            "\n",
            "\n",
            "1/1 [==============================] - 0s 32ms/step\n",
            "1/1 [==============================] - 0s 32ms/step\n",
            "1/1 [==============================] - 0s 40ms/step\n",
            "Code: \n",
            "Actual Summary:  calling long running function freeze program \n",
            "Predicted Summary:  sub \n",
            "Bleu Score: 0\n",
            "\n",
            "\n",
            "\n",
            "1/1 [==============================] - 0s 33ms/step\n",
            "1/1 [==============================] - 0s 24ms/step\n",
            "1/1 [==============================] - 0s 31ms/step\n",
            "1/1 [==============================] - 0s 32ms/step\n",
            "1/1 [==============================] - 0s 26ms/step\n",
            "1/1 [==============================] - 0s 32ms/step\n",
            "Code: key get field sub\n",
            "Actual Summary:  list subsets based pattern \n",
            "Predicted Summary:  list subsets based pattern \n",
            "Bleu Score: 1.0\n",
            "\n",
            "\n",
            "\n",
            "1/1 [==============================] - 0s 36ms/step\n",
            "1/1 [==============================] - 0s 32ms/step\n",
            "1/1 [==============================] - 0s 24ms/step\n",
            "1/1 [==============================] - 0s 24ms/step\n",
            "Code: main docopt docopt resargs docopt doc\n",
            "Actual Summary:  arguments argparse \n",
            "Predicted Summary:  arguments argparse \n",
            "Bleu Score: 1.491668146240062e-154\n",
            "\n",
            "\n",
            "\n",
            "1/1 [==============================] - 0s 24ms/step\n",
            "1/1 [==============================] - 0s 24ms/step\n",
            "1/1 [==============================] - 0s 24ms/step\n",
            "1/1 [==============================] - 0s 24ms/step\n",
            "1/1 [==============================] - 0s 24ms/step\n",
            "1/1 [==============================] - 0s 24ms/step\n",
            "1/1 [==============================] - 0s 24ms/step\n",
            "Code: buf value\n",
            "Actual Summary:  get windows short file name \n",
            "Predicted Summary:  get windows short file name \n",
            "Bleu Score: 1.0\n",
            "\n",
            "\n",
            "\n",
            "1/1 [==============================] - 0s 32ms/step\n",
            "1/1 [==============================] - 0s 33ms/step\n",
            "1/1 [==============================] - 0s 33ms/step\n",
            "1/1 [==============================] - 0s 32ms/step\n",
            "Code: app exec\n",
            "Actual Summary:  reference widget \n",
            "Predicted Summary:  escape format \n",
            "Bleu Score: 0\n",
            "\n",
            "\n",
            "\n",
            "1/1 [==============================] - 0s 40ms/step\n",
            "1/1 [==============================] - 0s 25ms/step\n",
            "1/1 [==============================] - 0s 32ms/step\n",
            "Code: \n",
            "Actual Summary:  draw gdk pixbuf using gtk py object \n",
            "Predicted Summary:  sub \n",
            "Bleu Score: 0\n",
            "\n",
            "\n",
            "\n",
            "1/1 [==============================] - 0s 41ms/step\n",
            "1/1 [==============================] - 0s 32ms/step\n",
            "1/1 [==============================] - 0s 42ms/step\n",
            "1/1 [==============================] - 0s 40ms/step\n",
            "1/1 [==============================] - 0s 40ms/step\n",
            "1/1 [==============================] - 0s 42ms/step\n",
            "Code: tf cast tf ceil tf int\n",
            "Actual Summary:  points image tensor flow \n",
            "Predicted Summary:  points image tensor flow \n",
            "Bleu Score: 1.0\n",
            "\n",
            "\n",
            "\n"
          ]
        }
      ],
      "source": [
        "warnings.filterwarnings(\"ignore\")\n",
        "bleu_score = 0\n",
        "total = 0\n",
        "\n",
        "test = generate_batch(X, y, batch_size = 1)\n",
        "for k in range(0, 20):\n",
        "    total += 1\n",
        "    (input_seq, actual_output), _ = next(test)\n",
        "    decoded_sentence = decode_sequence(input_seq)\n",
        "    print('Code:', X[k:k+1].values[0])\n",
        "    print('Actual Summary:', y[k:k+1].values[0][6:-4])\n",
        "    print('Predicted Summary:', decoded_sentence[:-4])\n",
        "\n",
        "    #bleu score\n",
        "    reference = [re.findall(r'\\w+', y[k:k+1].values[0][6:-4])]\n",
        "    candidate = re.findall(r'\\w+', decoded_sentence[:-4])\n",
        "    bleu = sentence_bleu(reference, candidate)\n",
        "    print('Bleu Score:', bleu)\n",
        "    bleu_score += bleu\n",
        "\n",
        "    print('\\n\\n')"
      ]
    },
    {
      "cell_type": "code",
      "execution_count": 30,
      "metadata": {
        "colab": {
          "base_uri": "https://localhost:8080/"
        },
        "id": "yoOUJAqnLTG4",
        "outputId": "9c2225a8-d612-40c7-de12-9bcc19ecbc33"
      },
      "outputs": [
        {
          "name": "stdout",
          "output_type": "stream",
          "text": [
            "Average Bleu Score of Model:  0.45\n"
          ]
        }
      ],
      "source": [
        "print('Average Bleu Score of Model: ', bleu_score/total)"
      ]
    }
  ],
  "metadata": {
    "accelerator": "GPU",
    "colab": {
      "collapsed_sections": [],
      "name": "Hackathon-Final.ipynb",
      "provenance": []
    },
    "gpuClass": "standard",
    "kernelspec": {
      "display_name": "Python 3.10.4 64-bit",
      "language": "python",
      "name": "python3"
    },
    "language_info": {
      "codemirror_mode": {
        "name": "ipython",
        "version": 3
      },
      "file_extension": ".py",
      "mimetype": "text/x-python",
      "name": "python",
      "nbconvert_exporter": "python",
      "pygments_lexer": "ipython3",
      "version": "3.10.4"
    },
    "vscode": {
      "interpreter": {
        "hash": "a9f163997e9f8e499c00e0e6b9e906414411e2127b46913a7e019f286d4ee483"
      }
    }
  },
  "nbformat": 4,
  "nbformat_minor": 0
}
